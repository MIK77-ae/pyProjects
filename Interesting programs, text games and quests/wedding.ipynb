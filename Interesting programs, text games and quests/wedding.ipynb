{
 "cells": [
  {
   "cell_type": "code",
   "metadata": {
    "ExecuteTime": {
     "end_time": "2025-03-03T15:15:30.764854Z",
     "start_time": "2025-03-03T15:15:27.953872Z"
    }
   },
   "source": [
    "!pip install datatime\n",
    "from datetime import datetime"
   ],
   "outputs": [
    {
     "name": "stderr",
     "output_type": "stream",
     "text": [
      "ERROR: Could not find a version that satisfies the requirement datatime (from versions: none)\n",
      "\n",
      "[notice] A new release of pip is available: 24.3.1 -> 25.0.1\n",
      "[notice] To update, run: python.exe -m pip install --upgrade pip\n",
      "ERROR: No matching distribution found for datatime\n"
     ]
    }
   ],
   "execution_count": 1
  },
  {
   "cell_type": "code",
   "metadata": {
    "ExecuteTime": {
     "end_time": "2025-03-03T15:16:53.065872Z",
     "start_time": "2025-03-03T15:16:18.690206Z"
    }
   },
   "source": [
    "def calculate_anniversary_type(years):\n",
    "    anniversary_types = {\n",
    "        1: \"Ситцевая свадьба\",\n",
    "        2: \"Бумажная свадьба\",\n",
    "        3: \"Кожаная свадьба\",\n",
    "        4: \"Льняная (восковая) свадьба\",\n",
    "        5: \"Деревянная свадьба\",\n",
    "        6: \"Чугунная (железная) свадьба\",\n",
    "        7: \"Медная (шерстяная) свадьба\",\n",
    "        8: \"Жестяная свадьба\",\n",
    "        9: \"Фаянсовая свадьба\",\n",
    "        10: \"Оловянная (розовая) свадьба\",\n",
    "        11: \"Стальная свадьба\",\n",
    "        12: \"Никелевая свадьба\",\n",
    "        13: \"Кружевная свадьба\",\n",
    "        14: \"Агатовая свадьба\",\n",
    "        15: \"Хрустальная (стеклянная) свадьба\",\n",
    "        16: \"Топазовая свадьба\",\n",
    "        17: \"Розовая свадьба\",\n",
    "        18: \"Бирюзовая свадьба\",\n",
    "        19: \"Гранатовая свадьба\",\n",
    "        20: \"Фарфоровая свадьба\",\n",
    "        21: \"Опаловая свадьба\",\n",
    "        22: \"Бронзовая свадьба\",\n",
    "        23: \"Берилловая свадьба\",\n",
    "        24: \"Атласная свадьба\",\n",
    "        25: \"Серебряная свадьба\",\n",
    "        26: \"Нефритовая свадьба\",\n",
    "        27: \"Красная свадьба\",\n",
    "        28: \"Никелевая свадьба\",\n",
    "        29: \"Бархатная свадьба\",\n",
    "        30: \"Жемчужная свадьба\",\n",
    "        31: \"Смуглая свадьба\",\n",
    "        32: \"Медная свадьба\",\n",
    "        33: \"Каменная свадьба\",\n",
    "        34: \"Янтарная свадьба\",\n",
    "        35: \"Коралловая свадьба\",\n",
    "        36: \"Мыльная свадьба\",\n",
    "        37: \"Муслиновая свадьба\",\n",
    "        38: \"Ртутная свадьба\",\n",
    "        39: \"Креповая свадьба\",\n",
    "        40: \"Рубиновая свадьба\",\n",
    "        41: \"Земляничная свадьба\",\n",
    "        42: \"Перламутровая свадьба\",\n",
    "        43: \"Фланелевая свадьба\",\n",
    "        44: \"Топазовая свадьба\",\n",
    "        45: \"Сапфировая свадьба\",\n",
    "        46: \"Лавандовая свадьба\",\n",
    "        47: \"Кашемировая свадьба\",\n",
    "        48: \"Аметистовая свадьба\",\n",
    "        49: \"Кедровая свадьба\",\n",
    "        50: \"Золотая свадьба\",\n",
    "        55: \"Изумрудная свадьба\",\n",
    "        60: \"Бриллиантовая свадьба\",\n",
    "        65: \"Железная свадьба\",\n",
    "        70: \"Благодатная свадьба\",\n",
    "        75: \"Коронная свадьба\",\n",
    "        80: \"Дубовая свадьба\",\n",
    "        85: \"Винная свадьба\",\n",
    "        90: \"Гранитная свадьба\",\n",
    "        95: \"Алмазная свадьба\",\n",
    "        100: \"Красная свадьба\"\n",
    "    }\n",
    "    \n",
    "    return anniversary_types.get(years, None)\n",
    "\n",
    "def main():\n",
    "    # Запрашиваем имена и дату свадьбы\n",
    "    husband_name = input(\"Введите имя мужа: \")\n",
    "    wife_name = input(\"Введите имя жены: \")\n",
    "    wedding_date_str = input(\"Введите дату свадьбы (в формате ГГГГ-ММ-ДД): \")\n",
    "    \n",
    "    # Преобразуем введенную строку в дату\n",
    "    wedding_date = datetime.strptime(wedding_date_str, \"%Y-%m-%d\")\n",
    "    current_date = datetime.now()\n",
    "    \n",
    "    # Вычисляем разницу\n",
    "    delta = current_date - wedding_date\n",
    "    years = delta.days // 365\n",
    "    days = delta.days\n",
    "    hours = delta.total_seconds() // 3600\n",
    "    \n",
    "    # Определяем тип годовщины\n",
    "    anniversary_type = calculate_anniversary_type(years)\n",
    "    \n",
    "    # Выводим результаты\n",
    "    print(f\"\\nС момента свадьбы {husband_name} и {wife_name} прошло:\")\n",
    "    print(f\"{years} лет\")\n",
    "    print(f\"{days} дней\")\n",
    "    print(f\"{int(hours)} часов\")\n",
    "    \n",
    "    if anniversary_type:\n",
    "        print(f\"Это {anniversary_type}!\")\n",
    "\n",
    "if __name__ == \"__main__\":\n",
    "    main()"
   ],
   "outputs": [
    {
     "name": "stdout",
     "output_type": "stream",
     "text": [
      "\n",
      "С момента свадьбы Михаил и Наталия прошло:\n",
      "17 лет\n",
      "6442 дней\n",
      "154626 часов\n",
      "Это Розовая свадьба!\n"
     ]
    }
   ],
   "execution_count": 2
  }
 ],
 "metadata": {
  "kernelspec": {
   "display_name": "Python 3",
   "language": "python",
   "name": "python3"
  },
  "language_info": {
   "codemirror_mode": {
    "name": "ipython",
    "version": 3
   },
   "file_extension": ".py",
   "mimetype": "text/x-python",
   "name": "python",
   "nbconvert_exporter": "python",
   "pygments_lexer": "ipython3",
   "version": "3.11.9"
  }
 },
 "nbformat": 4,
 "nbformat_minor": 2
}
